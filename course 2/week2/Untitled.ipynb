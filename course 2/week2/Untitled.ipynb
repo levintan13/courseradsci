{
 "cells": [
  {
   "cell_type": "code",
   "execution_count": 18,
   "id": "2a381b77",
   "metadata": {},
   "outputs": [],
   "source": [
    "import numpy as np\n"
   ]
  },
  {
   "cell_type": "code",
   "execution_count": 20,
   "id": "bfe2fc66",
   "metadata": {},
   "outputs": [
    {
     "data": {
      "text/plain": [
       "958049280"
      ]
     },
     "execution_count": 20,
     "metadata": {},
     "output_type": "execute_result"
    }
   ],
   "source": [
    "np.math.factorial(12)+np.math.factorial(8)+np.math.factorial(7)+np.math.factorial(6)+np.math.factorial(12)"
   ]
  },
  {
   "cell_type": "code",
   "execution_count": null,
   "id": "8f4136a7",
   "metadata": {},
   "outputs": [],
   "source": []
  },
  {
   "cell_type": "code",
   "execution_count": null,
   "id": "fa5e245b",
   "metadata": {},
   "outputs": [],
   "source": []
  }
 ],
 "metadata": {
  "kernelspec": {
   "display_name": "Python 3",
   "language": "python",
   "name": "python3"
  },
  "language_info": {
   "codemirror_mode": {
    "name": "ipython",
    "version": 3
   },
   "file_extension": ".py",
   "mimetype": "text/x-python",
   "name": "python",
   "nbconvert_exporter": "python",
   "pygments_lexer": "ipython3",
   "version": "3.8.8"
  }
 },
 "nbformat": 4,
 "nbformat_minor": 5
}
