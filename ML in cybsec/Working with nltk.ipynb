{
 "cells": [
  {
   "cell_type": "markdown",
   "id": "914cc615",
   "metadata": {},
   "source": [
    "# Working with nltk"
   ]
  },
  {
   "cell_type": "code",
   "execution_count": 1,
   "id": "93d4f7e8",
   "metadata": {},
   "outputs": [
    {
     "name": "stdout",
     "output_type": "stream",
     "text": [
      "разбивка по словам: ['Hello', '.', 'I', 'am', 'sitting', 'at', 'home', '.'] \n",
      "\n",
      "разбивка по предложениям: ['Hello.', 'I am sitting at home.'] \n",
      "\n",
      "очистка от бесполезных слов ['Hello', '.', 'I', 'sitting', 'home', '.'] \n",
      "\n",
      "сжимаем по корню ['play', 'play', 'play', 'play', 'playful', 'play'] \n",
      "\n",
      "сжимаем более качественно по корню i play the play play as the player were play in the play with playful  \n",
      "\n",
      "initial: Hello. I am sitting at home. I played the play playfully as the players were playing in the play with playfullness \n",
      "\n",
      "tagged: [('Hello', 'NNP'), ('.', '.'), ('I', 'PRP'), ('am', 'VBP'), ('sitting', 'VBG'), ('at', 'IN'), ('home', 'NN'), ('.', '.'), ('I', 'PRP'), ('played', 'VBD'), ('the', 'DT'), ('play', 'NN'), ('playfully', 'RB'), ('as', 'IN'), ('the', 'DT'), ('players', 'NNS'), ('were', 'VBD'), ('playing', 'VBG'), ('in', 'IN'), ('the', 'DT'), ('play', 'NN'), ('with', 'IN'), ('playfullness', 'NN')]\n"
     ]
    }
   ],
   "source": [
    "import nltk\n",
    "#nltk.download('all')\n",
    "\n",
    "from nltk import word_tokenize, sent_tokenize\n",
    "sent = \"Hello. I am sitting at home.\"\n",
    "print('разбивка по словам:', word_tokenize(sent), '\\n')\n",
    "print('разбивка по предложениям:', sent_tokenize(sent), '\\n')\n",
    "\n",
    "from nltk.corpus import stopwords\n",
    "\n",
    "stop_words = stopwords.words('english')\n",
    "\n",
    "token = word_tokenize(sent)\n",
    "cleaned_token = []\n",
    "for word in token:\n",
    "    if word not in stop_words:\n",
    "        cleaned_token.append(word)\n",
    "print('очистка от бесполезных слов', cleaned_token, '\\n')\n",
    "\n",
    "from nltk.stem import PorterStemmer\n",
    "stemmer = PorterStemmer()\n",
    "words = ['play', 'playing', 'plays', 'played', 'playfullness', 'playful']\n",
    "stemmed = [stemmer.stem(word) for word in words]    \n",
    "print('сжимаем по корню', stemmed, '\\n')\n",
    "\n",
    "sent2 = \"I played the play playfully as the players were playing in the play with playfullness\"\n",
    "token = word_tokenize(sent2)\n",
    "stemmed = ''\n",
    "for word in token:\n",
    "    stemmed += stemmer.stem(word) + ' '\n",
    "print('сжимаем более качественно по корню', stemmed, '\\n')\n",
    "\n",
    "from nltk import pos_tag\n",
    "token = word_tokenize(sent) + word_tokenize(sent2)\n",
    "\n",
    "cleaned_token = []\n",
    "for word in token:\n",
    "    if word not in stop_words:\n",
    "        cleaned_token.append(word)\n",
    "tagged = pos_tag(token)\n",
    "print('initial:', sent, sent2, '\\n')\n",
    "print('tagged:', tagged)"
   ]
  },
  {
   "cell_type": "markdown",
   "id": "c39e4ff2",
   "metadata": {},
   "source": [
    "fbdbg"
   ]
  }
 ],
 "metadata": {
  "kernelspec": {
   "display_name": "Python 3",
   "language": "python",
   "name": "python3"
  },
  "language_info": {
   "codemirror_mode": {
    "name": "ipython",
    "version": 3
   },
   "file_extension": ".py",
   "mimetype": "text/x-python",
   "name": "python",
   "nbconvert_exporter": "python",
   "pygments_lexer": "ipython3",
   "version": "3.8.8"
  }
 },
 "nbformat": 4,
 "nbformat_minor": 5
}
